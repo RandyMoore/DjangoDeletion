{
 "cells": [
  {
   "cell_type": "code",
   "execution_count": 1,
   "metadata": {},
   "outputs": [],
   "source": [
    "# Same as the ManyToOne example, except OneToOne is intended to model\n",
    "# is-a (inheritance) relationships"
   ]
  },
  {
   "cell_type": "code",
   "execution_count": 2,
   "metadata": {},
   "outputs": [],
   "source": [
    "# Clean up in case of re-running\n",
    "OneToOneChildProtect.objects.all().delete()\n",
    "OneToOneParent.objects.all().delete()\n",
    "OneToOneChildCascade.objects.all().delete()\n",
    "OneToOneChildNull.objects.all().delete();"
   ]
  },
  {
   "cell_type": "code",
   "execution_count": 3,
   "metadata": {},
   "outputs": [
    {
     "name": "stdout",
     "output_type": "stream",
     "text": [
      "OneToOneParent id: 1 has cascade children ['OneToOneChildCascade 2', 'OneToOneChildCascade 3']\n",
      "OneToOneParent id: 1 has null children ['OneToOneChildNull 4', 'OneToOneChildNull 5']\n",
      "OneToOneParent id: 1 has protect children ['OneToOneChildProtect 6']\n"
     ]
    }
   ],
   "source": [
    "# Populate a parent with all 3 kinds of children.\n",
    "parent = OneToOneParent.objects.create()\n",
    "\n",
    "[OneToOneChildCascade.objects.create(parent=parent) for _ in range(2)]\n",
    "[OneToOneChildNull.objects.create(parent=parent) for _ in range(2)]\n",
    "OneToOneChildProtect.objects.create(parent=parent)\n",
    "\n",
    "[p.print_relations() for p in OneToOneParent.objects.all()];"
   ]
  },
  {
   "cell_type": "code",
   "execution_count": 4,
   "metadata": {},
   "outputs": [
    {
     "name": "stdout",
     "output_type": "stream",
     "text": [
      "Delete called on OneToOneChildCascade 3\n",
      "Delete called on OneToOneChildNull 5\n",
      "Delete called on OneToOneChildProtect 6\n",
      "OneToOneParent id: 1 has cascade children ['OneToOneChildCascade 2']\n",
      "OneToOneParent id: 1 has null children ['OneToOneChildNull 4']\n",
      "OneToOneParent id: 1 has protect children []\n"
     ]
    }
   ],
   "source": [
    "# Deletion behavior of the child does not depend on the type.\n",
    "parent.o_children_cascade.last().delete()\n",
    "parent.o_children_null.last().delete()\n",
    "parent.o_children_protect.last().delete()\n",
    "\n",
    "[p.print_relations() for p in OneToOneParent.objects.all()];"
   ]
  },
  {
   "cell_type": "code",
   "execution_count": 5,
   "metadata": {},
   "outputs": [
    {
     "name": "stdout",
     "output_type": "stream",
     "text": [
      "Existing children\n",
      "ManyToOneChildCascade: [Row(id=2, parent=1)]\n",
      "ManyToOneChildNull: [Row(id=4, parent=1)]\n",
      "\n",
      "Deleting the parent of these children\n",
      "\n",
      "Delete called on OneToOneParent 1\n",
      "ManyToOneChildCascade: [] <--Got deleted with the parent!\n",
      "ManyToOneChildNull: [Row(id=4, parent=None)] <-- Orphan :_( \n"
     ]
    }
   ],
   "source": [
    "# But when deleting the parent, the behavior depends on on_delete in the child ForeignKey to the parent\n",
    "def get_ids_parents(ModelClass):\n",
    "    return [t for t in ModelClass.objects.values_list(\"id\", \"parent\", named=True)]\n",
    "\n",
    "print('Existing children')\n",
    "print(f'ManyToOneChildCascade: {get_ids_parents(OneToOneChildCascade)}')\n",
    "print(f'ManyToOneChildNull: {get_ids_parents(OneToOneChildNull)}')\n",
    "\n",
    "print('\\nDeleting the parent of these children\\n')\n",
    "parent.delete()\n",
    "\n",
    "# Here be the dragon!\n",
    "print(f'ManyToOneChildCascade: {get_ids_parents(OneToOneChildCascade)} <--Got deleted with the parent!')\n",
    "print(f'ManyToOneChildNull: {get_ids_parents(OneToOneChildNull)} <-- Orphan :_( ');"
   ]
  },
  {
   "cell_type": "code",
   "execution_count": 6,
   "metadata": {},
   "outputs": [
    {
     "name": "stdout",
     "output_type": "stream",
     "text": [
      "Delete called on OneToOneParent 7\n",
      "\n",
      "The parent could not be deleted!\n",
      "\n",
      "OneToOneParent id: 7 has cascade children []\n",
      "OneToOneParent id: 7 has null children []\n",
      "OneToOneParent id: 7 has protect children ['OneToOneChildProtect 8']\n"
     ]
    }
   ],
   "source": [
    "# Now the final case - Try to delete a parent protected by a child\n",
    "from django.db.models import ProtectedError\n",
    "\n",
    "parent = OneToOneParent.objects.create()\n",
    "OneToOneChildProtect.objects.create(parent=parent)\n",
    "\n",
    "try:\n",
    "    parent.delete()\n",
    "    print('\\nThe parent was deleted!\\n')\n",
    "except ProtectedError:\n",
    "    print('\\nThe parent could not be deleted!\\n')\n",
    "    parent.print_relations()"
   ]
  },
  {
   "cell_type": "code",
   "execution_count": 7,
   "metadata": {},
   "outputs": [
    {
     "name": "stdout",
     "output_type": "stream",
     "text": [
      "Delete called on OneToOneChildProtect 8\n",
      "Delete called on OneToOneParent 7\n"
     ]
    }
   ],
   "source": [
    "# The child is protecting the parent as long as it exists.  One use of this is to enforce clean-up,\n",
    "# there can be no orhpaned child with a protected parent.\n",
    "parent.o_children_protect.first().delete()\n",
    "parent.delete();"
   ]
  }
 ],
 "metadata": {
  "kernelspec": {
   "display_name": "Django Shell-Plus",
   "language": "python",
   "name": "django_extensions"
  },
  "language_info": {
   "codemirror_mode": {
    "name": "ipython",
    "version": 3
   },
   "file_extension": ".py",
   "mimetype": "text/x-python",
   "name": "python",
   "nbconvert_exporter": "python",
   "pygments_lexer": "ipython3",
   "version": "3.7.4"
  }
 },
 "nbformat": 4,
 "nbformat_minor": 2
}
