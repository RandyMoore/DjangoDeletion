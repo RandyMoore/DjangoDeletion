{
 "cells": [
  {
   "cell_type": "code",
   "execution_count": 1,
   "metadata": {},
   "outputs": [],
   "source": [
    "# Clean up in case of re-running\n",
    "ManyToOneChildProtect.objects.all().delete()\n",
    "ManyToOneParent.objects.all().delete()\n",
    "ManyToOneChildCascade.objects.all().delete()\n",
    "ManyToOneChildNull.objects.all().delete();"
   ]
  },
  {
   "cell_type": "code",
   "execution_count": 2,
   "metadata": {},
   "outputs": [
    {
     "name": "stdout",
     "output_type": "stream",
     "text": [
      "ManyToOneParent id: 1 has cascade children ['ManyToOneChildCascade 2', 'ManyToOneChildCascade 3']\n",
      "ManyToOneParent id: 1 has null children ['ManyToOneChildNull 4', 'ManyToOneChildNull 5']\n",
      "ManyToOneParent id: 1 has protect children ['ManyToOneChildProtect 6']\n"
     ]
    }
   ],
   "source": [
    "# Populate a parent with all 3 kinds of children.\n",
    "parent = ManyToOneParent.objects.create()\n",
    "\n",
    "[ManyToOneChildCascade.objects.create(parent=parent) for _ in range(2)]\n",
    "[ManyToOneChildNull.objects.create(parent=parent) for _ in range(2)]\n",
    "ManyToOneChildProtect.objects.create(parent=parent)\n",
    "\n",
    "[p.print_relations() for p in ManyToOneParent.objects.all()];"
   ]
  },
  {
   "cell_type": "code",
   "execution_count": 3,
   "metadata": {},
   "outputs": [
    {
     "name": "stdout",
     "output_type": "stream",
     "text": [
      "Delete called on ManyToOneChildCascade 3\n",
      "Delete called on ManyToOneChildNull 5\n",
      "Delete called on ManyToOneChildProtect 6\n",
      "ManyToOneParent id: 1 has cascade children ['ManyToOneChildCascade 2']\n",
      "ManyToOneParent id: 1 has null children ['ManyToOneChildNull 4']\n",
      "ManyToOneParent id: 1 has protect children []\n"
     ]
    }
   ],
   "source": [
    "# Deletion behavior of the child does not depend on the type.\n",
    "parent.children_cascade.last().delete()\n",
    "parent.children_null.last().delete()\n",
    "parent.children_protect.last().delete()\n",
    "\n",
    "[p.print_relations() for p in ManyToOneParent.objects.all()];"
   ]
  },
  {
   "cell_type": "code",
   "execution_count": 4,
   "metadata": {},
   "outputs": [
    {
     "name": "stdout",
     "output_type": "stream",
     "text": [
      "Existing children\n",
      "ManyToOneChildCascade: [Row(id=2, parent=1)]\n",
      "ManyToOneChildNull: [Row(id=4, parent=1)]\n",
      "\n",
      "Deleting the parent of these children\n",
      "\n",
      "Delete called on ManyToOneParent 1\n",
      "ManyToOneChildCascade: [] <--Got deleted with the parent!\n",
      "ManyToOneChildNull: [Row(id=4, parent=None)] <-- Orphan :_( \n"
     ]
    }
   ],
   "source": [
    "# But when deleting the parent, the behavior depends on on_delete in the child ForeignKey to the parent\n",
    "def get_ids_parents(ModelClass):\n",
    "    return [t for t in ModelClass.objects.values_list(\"id\", \"parent\", named=True)]\n",
    "\n",
    "print('Existing children')\n",
    "print(f'ManyToOneChildCascade: {get_ids_parents(ManyToOneChildCascade)}')\n",
    "print(f'ManyToOneChildNull: {get_ids_parents(ManyToOneChildNull)}')\n",
    "\n",
    "print('\\nDeleting the parent of these children\\n')\n",
    "parent.delete()\n",
    "\n",
    "# Here be the dragon!\n",
    "print(f'ManyToOneChildCascade: {get_ids_parents(ManyToOneChildCascade)} <--Got deleted with the parent!')\n",
    "print(f'ManyToOneChildNull: {get_ids_parents(ManyToOneChildNull)} <-- Orphan :_( ');"
   ]
  },
  {
   "cell_type": "code",
   "execution_count": 5,
   "metadata": {},
   "outputs": [
    {
     "name": "stdout",
     "output_type": "stream",
     "text": [
      "Delete called on ManyToOneParent 7\n",
      "\n",
      "The parent could not be deleted!\n",
      "\n",
      "ManyToOneParent id: 7 has cascade children []\n",
      "ManyToOneParent id: 7 has null children []\n",
      "ManyToOneParent id: 7 has protect children ['ManyToOneChildProtect 8']\n"
     ]
    }
   ],
   "source": [
    "# Now the final case - Try to delete a parent protected by a child\n",
    "from django.db.models import ProtectedError\n",
    "\n",
    "parent = ManyToOneParent.objects.create()\n",
    "ManyToOneChildProtect.objects.create(parent=parent)\n",
    "\n",
    "try:\n",
    "    parent.delete()\n",
    "    print('\\nThe parent was deleted!\\n')\n",
    "except ProtectedError:\n",
    "    print('\\nThe parent could not be deleted!\\n')\n",
    "    parent.print_relations()"
   ]
  },
  {
   "cell_type": "code",
   "execution_count": 6,
   "metadata": {},
   "outputs": [
    {
     "name": "stdout",
     "output_type": "stream",
     "text": [
      "Delete called on ManyToOneChildProtect 8\n",
      "Delete called on ManyToOneParent 7\n"
     ]
    }
   ],
   "source": [
    "# The child is protecting the parent as long as it exists.  One use of this is to enforce clean-up,\n",
    "# there can be no orhpaned child with a protected parent.\n",
    "parent.children_protect.first().delete()\n",
    "parent.delete();"
   ]
  }
 ],
 "metadata": {
  "kernelspec": {
   "display_name": "Django Shell-Plus",
   "language": "python",
   "name": "django_extensions"
  },
  "language_info": {
   "codemirror_mode": {
    "name": "ipython",
    "version": 3
   },
   "file_extension": ".py",
   "mimetype": "text/x-python",
   "name": "python",
   "nbconvert_exporter": "python",
   "pygments_lexer": "ipython3",
   "version": "3.7.4"
  }
 },
 "nbformat": 4,
 "nbformat_minor": 2
}
