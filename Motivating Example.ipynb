{
 "cells": [
  {
   "cell_type": "code",
   "execution_count": 1,
   "metadata": {},
   "outputs": [
    {
     "name": "stdout",
     "output_type": "stream",
     "text": [
      "Delete called on OrderReport 1\n",
      "Delete called on Order 1\n",
      "Delete called on OrderLine 1\n"
     ]
    }
   ],
   "source": [
    "# Somebody bought some things from us!  Hooray!\n",
    "lines = [OrderLine.objects.create()] * 2\n",
    "\n",
    "# We package the lines up into an order\n",
    "order = Order.objects.create()\n",
    "for line in lines:\n",
    "    line.order = order\n",
    "    line.save()\n",
    "\n",
    "# It's the end of the month, we create a Report to generate a document (maybe an invoice)\n",
    "report = OrderReport.objects.create()\n",
    "report.orders.add(order)\n",
    "report.save()\n",
    "\n",
    "# We have generated the document, we no longer need the report, so delete it\n",
    "report.delete();"
   ]
  },
  {
   "cell_type": "markdown",
   "metadata": {},
   "source": [
    "# Woa! The Order and OrderLines have been deleted along with the Report!"
   ]
  }
 ],
 "metadata": {
  "kernelspec": {
   "display_name": "Django Shell-Plus",
   "language": "python",
   "name": "django_extensions"
  },
  "language_info": {
   "codemirror_mode": {
    "name": "ipython",
    "version": 3
   },
   "file_extension": ".py",
   "mimetype": "text/x-python",
   "name": "python",
   "nbconvert_exporter": "python",
   "pygments_lexer": "ipython3",
   "version": "3.7.4"
  }
 },
 "nbformat": 4,
 "nbformat_minor": 2
}
