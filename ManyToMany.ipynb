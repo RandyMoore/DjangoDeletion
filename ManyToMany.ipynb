{
 "cells": [
  {
   "cell_type": "code",
   "execution_count": 1,
   "metadata": {},
   "outputs": [
    {
     "name": "stdout",
     "output_type": "stream",
     "text": [
      "ManyToManyParent id: 1 has children ['ManyToManyChild 3', 'ManyToManyChild 4']\n",
      "ManyToManyParent id: 2 has children ['ManyToManyChild 3', 'ManyToManyChild 4']\n"
     ]
    }
   ],
   "source": [
    "# Clean up all instance in DB, in case of re-run\n",
    "ManyToManyParent.objects.all().delete()\n",
    "ManyToManyChild.objects.all().delete()\n",
    "\n",
    "# Create 2 parents, 2 children, fully connected relations\n",
    "parents = [ManyToManyParent.objects.create() for _ in range(2)]\n",
    "children = [ManyToManyChild.objects.create() for _ in range(2)]\n",
    "for parent in parents:\n",
    "    for child in children:\n",
    "        child.parents.add(parent)\n",
    "\n",
    "for parent in ManyToManyParent.objects.all():\n",
    "    parent.print_relations()"
   ]
  },
  {
   "cell_type": "code",
   "execution_count": 2,
   "metadata": {},
   "outputs": [
    {
     "name": "stdout",
     "output_type": "stream",
     "text": [
      "Delete called on ManyToManyParent 1\n"
     ]
    }
   ],
   "source": [
    "parents[0].delete();"
   ]
  },
  {
   "cell_type": "code",
   "execution_count": 3,
   "metadata": {},
   "outputs": [
    {
     "name": "stdout",
     "output_type": "stream",
     "text": [
      "Delete called on ManyToManyChild 3\n"
     ]
    }
   ],
   "source": [
    "children[0].delete();"
   ]
  },
  {
   "cell_type": "code",
   "execution_count": 4,
   "metadata": {},
   "outputs": [
    {
     "name": "stdout",
     "output_type": "stream",
     "text": [
      "ManyToManyParent id: 2 has children ['ManyToManyChild 4']\n"
     ]
    }
   ],
   "source": [
    "for parent in ManyToManyParent.objects.all():\n",
    "    parent.print_relations()"
   ]
  }
 ],
 "metadata": {
  "kernelspec": {
   "display_name": "Django Shell-Plus",
   "language": "python",
   "name": "django_extensions"
  },
  "language_info": {
   "codemirror_mode": {
    "name": "ipython",
    "version": 3
   },
   "file_extension": ".py",
   "mimetype": "text/x-python",
   "name": "python",
   "nbconvert_exporter": "python",
   "pygments_lexer": "ipython3",
   "version": "3.7.4"
  }
 },
 "nbformat": 4,
 "nbformat_minor": 2
}
